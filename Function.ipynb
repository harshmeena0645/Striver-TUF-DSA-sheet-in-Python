{
 "cells": [
  {
   "cell_type": "markdown",
   "id": "ea5d8689",
   "metadata": {},
   "source": [
    "# functions\n",
    "\n",
    "    function is a block of statement used to perform specific task\n",
    "\n",
    "    syntax:\n",
    "            def function_name(parameters):\n",
    "                \"\"\"doc string \"\"\"\n",
    "\n",
    "                statement - 1\n",
    "                statement - 2\n",
    "\n",
    "                return \n",
    "\n",
    "            function calling :\n",
    "                function_name(arguments)\n",
    "\n",
    "# types of functions:                 \n",
    "            --> predefined function            \n",
    "                print()         \n",
    "                input()      \n",
    "                len()         \n",
    "                type()         \n",
    "                dir()        \n",
    "            --> user defined function\n",
    "    "
   ]
  },
  {
   "cell_type": "code",
   "execution_count": 2,
   "id": "4af761ea",
   "metadata": {},
   "outputs": [
    {
     "name": "stdout",
     "output_type": "stream",
     "text": [
      "15\n"
     ]
    }
   ],
   "source": [
    "def sum(f,l):\n",
    "    print(f+l)\n",
    "sum(9,6)"
   ]
  },
  {
   "cell_type": "code",
   "execution_count": 3,
   "id": "ff31b1c9",
   "metadata": {},
   "outputs": [
    {
     "name": "stdout",
     "output_type": "stream",
     "text": [
      "8\n"
     ]
    }
   ],
   "source": [
    "def CalSum(a,b):\n",
    "    sum = a+b\n",
    "    print(sum)\n",
    "CalSum(5,3)"
   ]
  },
  {
   "cell_type": "code",
   "execution_count": 4,
   "id": "e686664b",
   "metadata": {},
   "outputs": [
    {
     "name": "stdout",
     "output_type": "stream",
     "text": [
      "12\n"
     ]
    }
   ],
   "source": [
    "def CalSum(a,b):\n",
    "    return a+b\n",
    "sum = CalSum(5,7)\n",
    "print(sum)"
   ]
  },
  {
   "cell_type": "code",
   "execution_count": 5,
   "id": "b70aa74c",
   "metadata": {},
   "outputs": [
    {
     "name": "stdout",
     "output_type": "stream",
     "text": [
      "Hello\n"
     ]
    }
   ],
   "source": [
    "def print_h():\n",
    "    print(\"Hello\")\n",
    "print_h()"
   ]
  },
  {
   "cell_type": "code",
   "execution_count": 6,
   "id": "5512c159",
   "metadata": {},
   "outputs": [
    {
     "name": "stdout",
     "output_type": "stream",
     "text": [
      "Hello\n",
      "None\n"
     ]
    }
   ],
   "source": [
    "output = print_h()\n",
    "print(output)"
   ]
  },
  {
   "cell_type": "code",
   "execution_count": 7,
   "id": "728739c8",
   "metadata": {},
   "outputs": [
    {
     "name": "stdout",
     "output_type": "stream",
     "text": [
      "4.0\n"
     ]
    }
   ],
   "source": [
    "def avg(a,b,c):\n",
    "    average = (a+b+c)/3\n",
    "    print(average)\n",
    "avg(2,4,6)"
   ]
  },
  {
   "cell_type": "code",
   "execution_count": 8,
   "id": "bb6b03ef",
   "metadata": {},
   "outputs": [
    {
     "name": "stdout",
     "output_type": "stream",
     "text": [
      "4.0\n"
     ]
    }
   ],
   "source": [
    "def avg(a,b,c):\n",
    "    return (a+b+c)/3\n",
    "print(avg(2,4,6))"
   ]
  },
  {
   "cell_type": "code",
   "execution_count": 2,
   "id": "4c3f53bf",
   "metadata": {},
   "outputs": [
    {
     "name": "stdout",
     "output_type": "stream",
     "text": [
      "['A', 'P', 'C', 'T', 'N']\n",
      "5\n",
      "P\n",
      "C T\n"
     ]
    }
   ],
   "source": [
    "cities=[ \"A\" , \"P\" ,\"C\", \"T\" ,\"N\"]\n",
    "\n",
    "def print_l(list):\n",
    "    print(len(list))\n",
    "def print_c(list):\n",
    "    print(list)\n",
    "print_c(cities)\n",
    "print_l(cities)\n",
    "print(cities[1])\n",
    "print(cities[2] ,end=\" \")\n",
    "print(cities[3])"
   ]
  },
  {
   "cell_type": "code",
   "execution_count": 3,
   "id": "9e283961",
   "metadata": {},
   "outputs": [
    {
     "name": "stdout",
     "output_type": "stream",
     "text": [
      "A P C T N "
     ]
    }
   ],
   "source": [
    "def print_l(list):\n",
    "    for item in list:\n",
    "        print(item,end=\" \")\n",
    "print_l(cities)"
   ]
  },
  {
   "cell_type": "code",
   "execution_count": 4,
   "id": "a401a113",
   "metadata": {},
   "outputs": [
    {
     "name": "stdout",
     "output_type": "stream",
     "text": [
      "120\n"
     ]
    }
   ],
   "source": [
    "def fact(n):\n",
    "    facto = 1\n",
    "    for i in range(1 , n+1):\n",
    "        facto *= i\n",
    "    print(facto)\n",
    "fact(5)"
   ]
  },
  {
   "cell_type": "code",
   "execution_count": 5,
   "id": "a65366c8",
   "metadata": {},
   "outputs": [
    {
     "name": "stdout",
     "output_type": "stream",
     "text": [
      "9 1\n"
     ]
    }
   ],
   "source": [
    "def add_sub(x,y):\n",
    "    a=x+y\n",
    "    b=x-y\n",
    "    return a,b\n",
    "m,n=add_sub(5,4)\n",
    "print(m,n)"
   ]
  },
  {
   "cell_type": "code",
   "execution_count": null,
   "id": "e04fe5ba",
   "metadata": {},
   "outputs": [],
   "source": []
  }
 ],
 "metadata": {
  "kernelspec": {
   "display_name": "Python 3 (ipykernel)",
   "language": "python",
   "name": "python3"
  },
  "language_info": {
   "codemirror_mode": {
    "name": "ipython",
    "version": 3
   },
   "file_extension": ".py",
   "mimetype": "text/x-python",
   "name": "python",
   "nbconvert_exporter": "python",
   "pygments_lexer": "ipython3",
   "version": "3.11.3"
  }
 },
 "nbformat": 4,
 "nbformat_minor": 5
}
