{
 "cells": [
  {
   "cell_type": "markdown",
   "id": "3a842588",
   "metadata": {},
   "source": [
    "# List"
   ]
  },
  {
   "cell_type": "code",
   "execution_count": 8,
   "id": "44fd830e",
   "metadata": {},
   "outputs": [
    {
     "name": "stdout",
     "output_type": "stream",
     "text": [
      "[11, 22, 33, 11, 'number', 'Anku']\n",
      "22\n",
      "[11, 22, 33]\n",
      "[22, 33, 11]\n",
      "2\n"
     ]
    }
   ],
   "source": [
    "mark=[11,22,33,11,\"number\",\"Anku\"]\n",
    "print(mark)\n",
    "print(mark[-5])\n",
    "print(mark[0:3])          # 0,3  Wrong\n",
    "print(mark[1:-2])\n",
    "print(mark.index(33))"
   ]
  },
  {
   "cell_type": "code",
   "execution_count": 9,
   "id": "bcea27cd",
   "metadata": {},
   "outputs": [
    {
     "name": "stdout",
     "output_type": "stream",
     "text": [
      "11\n",
      "22\n",
      "33\n",
      "11\n",
      "number\n",
      "Anku\n"
     ]
    }
   ],
   "source": [
    "for i in mark:\n",
    "    print(i)"
   ]
  },
  {
   "cell_type": "code",
   "execution_count": 3,
   "id": "145bd6ed",
   "metadata": {},
   "outputs": [
    {
     "name": "stdout",
     "output_type": "stream",
     "text": [
      "[]\n"
     ]
    }
   ],
   "source": [
    "mark.clear()\n",
    "print(mark)"
   ]
  },
  {
   "cell_type": "code",
   "execution_count": 10,
   "id": "bb1ccc4e",
   "metadata": {},
   "outputs": [
    {
     "name": "stdout",
     "output_type": "stream",
     "text": [
      "None\n",
      "[11, 22, 33, 11, 'number', 'Anku', 55, [77]]\n"
     ]
    }
   ],
   "source": [
    "mark.append(55)         #only one element can append once\n",
    "print(mark.append([77]))\n",
    "print(mark)"
   ]
  },
  {
   "cell_type": "code",
   "execution_count": 6,
   "id": "de86f20e",
   "metadata": {},
   "outputs": [
    {
     "name": "stdout",
     "output_type": "stream",
     "text": [
      "True\n",
      "7\n"
     ]
    }
   ],
   "source": [
    "print(11 in mark)\n",
    "print(len(mark))"
   ]
  },
  {
   "cell_type": "code",
   "execution_count": 11,
   "id": "0c64bb4a",
   "metadata": {},
   "outputs": [
    {
     "name": "stdout",
     "output_type": "stream",
     "text": [
      "[0, 0, 1, 2, 2]\n"
     ]
    }
   ],
   "source": [
    "arr = [0, 2, 1, 2, 0]\n",
    "a = []\n",
    "z = arr.count(0)\n",
    "o = arr.count(1)\n",
    "t = arr.count(2)\n",
    "        \n",
    "a.extend([0] * z)\n",
    "a.extend([1] * o)\n",
    "a.extend([2] * t)\n",
    "print(a)"
   ]
  },
  {
   "cell_type": "code",
   "execution_count": 12,
   "id": "8f724afa",
   "metadata": {},
   "outputs": [
    {
     "name": "stdout",
     "output_type": "stream",
     "text": [
      "-7 -3 -1 2 4 5 6 8 9 "
     ]
    }
   ],
   "source": [
    "arr = [ -1, 2, -3, 4, 5, 6, -7, 8, 9 ]\n",
    "arr.sort()\n",
    "for i in arr:\n",
    "    print(i,end=\" \")"
   ]
  },
  {
   "cell_type": "code",
   "execution_count": 13,
   "id": "fbd3af2e",
   "metadata": {},
   "outputs": [
    {
     "name": "stdout",
     "output_type": "stream",
     "text": [
      "5\n"
     ]
    }
   ],
   "source": [
    "nums = [3,2,3,1,2,4,5,6,8,9]\n",
    "k = 4\n",
    "a=sorted(nums)\n",
    "print(a[-k])"
   ]
  },
  {
   "cell_type": "code",
   "execution_count": 1,
   "id": "1fd41a5b",
   "metadata": {},
   "outputs": [
    {
     "name": "stdout",
     "output_type": "stream",
     "text": [
      "(3, 4, '5', 'shiva', 33)\n"
     ]
    }
   ],
   "source": [
    "n=[3,4,'5','shiva',33]\n",
    "print(tuple(n))"
   ]
  },
  {
   "cell_type": "markdown",
   "id": "3ff67f8e",
   "metadata": {},
   "source": [
    "# Tuple"
   ]
  },
  {
   "cell_type": "code",
   "execution_count": 18,
   "id": "a5eb9490",
   "metadata": {},
   "outputs": [
    {
     "name": "stdout",
     "output_type": "stream",
     "text": [
      "<class 'tuple'>\n",
      "(54, 56, 34, 23)\n",
      "1\n",
      "2\n",
      "<class 'int'>\n",
      "34\n",
      "<class 'tuple'>\n",
      "(32,)\n"
     ]
    }
   ],
   "source": [
    "mark = 54,56,34,23\n",
    "print(type(mark))\n",
    "print(mark)\n",
    "print(mark.count(23))\n",
    "print(mark.index(34))\n",
    "\n",
    "m = (34)\n",
    "print(type(m))\n",
    "print(m)\n",
    "\n",
    "marks = (32,)\n",
    "print(type(marks))\n",
    "print(marks)"
   ]
  },
  {
   "cell_type": "code",
   "execution_count": 2,
   "id": "bac2e78f",
   "metadata": {},
   "outputs": [
    {
     "name": "stdout",
     "output_type": "stream",
     "text": [
      "[2, 55, '4', 'foo', 'rao']\n"
     ]
    }
   ],
   "source": [
    "n=(2,55,'4',\"foo\",'rao')\n",
    "print(list(n))"
   ]
  },
  {
   "cell_type": "markdown",
   "id": "a4b6d32d",
   "metadata": {},
   "source": [
    "# Dict"
   ]
  },
  {
   "cell_type": "code",
   "execution_count": 19,
   "id": "39fa154a",
   "metadata": {},
   "outputs": [
    {
     "name": "stdout",
     "output_type": "stream",
     "text": [
      "{'OOPs': 99, 'DSA': 100, 2: 5, 45: 'a'}\n",
      "100\n",
      "98\n",
      "{'OOPs': 99, 'DSA': 100, 2: 5, 45: 'a', 'Math': 98}\n",
      "<class 'dict'>\n",
      "OOPs\n",
      "DSA\n",
      "2\n",
      "45\n",
      "Math\n"
     ]
    }
   ],
   "source": [
    "marks = {\"OOPs\" : 99,\"DSA\": 100,2:5 ,45:\"a\"}\n",
    "print(marks)\n",
    "print(marks[\"DSA\"])\n",
    "marks[\"Math\"]=98\n",
    "print(marks[\"Math\"])\n",
    "print(marks)\n",
    "print(type(marks))\n",
    "\n",
    "for score in marks:\n",
    "    print(score)"
   ]
  },
  {
   "cell_type": "code",
   "execution_count": 4,
   "id": "b0fc4a01",
   "metadata": {},
   "outputs": [
    {
     "name": "stdout",
     "output_type": "stream",
     "text": [
      "{'a': 1, 'c': 3}\n"
     ]
    }
   ],
   "source": [
    "n = {'a': 1, 'b': 2, 'c': 3}\n",
    "del n['b']\n",
    "print(n) "
   ]
  },
  {
   "cell_type": "code",
   "execution_count": 5,
   "id": "db1e732d",
   "metadata": {},
   "outputs": [
    {
     "name": "stdout",
     "output_type": "stream",
     "text": [
      "{'a': 1, 'c': 3}\n",
      "2\n"
     ]
    }
   ],
   "source": [
    "m = {'a': 1, 'b': 2, 'c': 3}\n",
    "value = m.pop('b')\n",
    "print(m)\n",
    "print(value) "
   ]
  },
  {
   "cell_type": "code",
   "execution_count": 6,
   "id": "b02be917",
   "metadata": {},
   "outputs": [
    {
     "name": "stdout",
     "output_type": "stream",
     "text": [
      "{'a': 1, 'b': 2}\n",
      "c 3\n"
     ]
    }
   ],
   "source": [
    "d = {'a': 1, 'b': 2, 'c': 3}\n",
    "key, value = d.popitem()\n",
    "print(d)\n",
    "print(key, value)"
   ]
  },
  {
   "cell_type": "code",
   "execution_count": null,
   "id": "3c9825af",
   "metadata": {},
   "outputs": [],
   "source": []
  },
  {
   "cell_type": "code",
   "execution_count": 20,
   "id": "a5abcbe6",
   "metadata": {},
   "outputs": [
    {
     "name": "stdout",
     "output_type": "stream",
     "text": [
      "['__doc__', '__loader__', '__name__', '__package__', '__spec__', 'acos', 'acosh', 'asin', 'asinh', 'atan', 'atan2', 'atanh', 'cbrt', 'ceil', 'comb', 'copysign', 'cos', 'cosh', 'degrees', 'dist', 'e', 'erf', 'erfc', 'exp', 'exp2', 'expm1', 'fabs', 'factorial', 'floor', 'fmod', 'frexp', 'fsum', 'gamma', 'gcd', 'hypot', 'inf', 'isclose', 'isfinite', 'isinf', 'isnan', 'isqrt', 'lcm', 'ldexp', 'lgamma', 'log', 'log10', 'log1p', 'log2', 'modf', 'nan', 'nextafter', 'perm', 'pi', 'pow', 'prod', 'radians', 'remainder', 'sin', 'sinh', 'sqrt', 'tan', 'tanh', 'tau', 'trunc', 'ulp']\n",
      "12.0\n"
     ]
    }
   ],
   "source": [
    "import math\n",
    "print(dir(math))\n",
    "from math import *\n",
    "print(sqrt(144))"
   ]
  },
  {
   "cell_type": "code",
   "execution_count": null,
   "id": "372f8acc",
   "metadata": {},
   "outputs": [],
   "source": []
  }
 ],
 "metadata": {
  "kernelspec": {
   "display_name": "Python 3 (ipykernel)",
   "language": "python",
   "name": "python3"
  },
  "language_info": {
   "codemirror_mode": {
    "name": "ipython",
    "version": 3
   },
   "file_extension": ".py",
   "mimetype": "text/x-python",
   "name": "python",
   "nbconvert_exporter": "python",
   "pygments_lexer": "ipython3",
   "version": "3.11.3"
  }
 },
 "nbformat": 4,
 "nbformat_minor": 5
}
