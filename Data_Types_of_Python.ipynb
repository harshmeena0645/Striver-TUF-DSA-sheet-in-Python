{
 "cells": [
  {
   "cell_type": "markdown",
   "id": "1a5dafcb-4015-40e8-a986-f02a49c0940b",
   "metadata": {},
   "source": [
    "# Data Types"
   ]
  },
  {
   "cell_type": "markdown",
   "id": "baf2c47f-f2c0-4bba-aa73-186b9e706dea",
   "metadata": {},
   "source": [
    "### Numeric Datatype"
   ]
  },
  {
   "cell_type": "code",
   "execution_count": 2,
   "id": "21b0ee9d-6c27-4dae-8899-fbcb2d854e2b",
   "metadata": {},
   "outputs": [
    {
     "name": "stdout",
     "output_type": "stream",
     "text": [
      "<class 'int'>\n"
     ]
    }
   ],
   "source": [
    "i=5\n",
    "print(type(i))"
   ]
  },
  {
   "cell_type": "code",
   "execution_count": 3,
   "id": "ab5b0288-6894-49b5-bc61-1ba8e6eb6b59",
   "metadata": {},
   "outputs": [
    {
     "name": "stdout",
     "output_type": "stream",
     "text": [
      "<class 'float'>\n"
     ]
    }
   ],
   "source": [
    "f=6.5\n",
    "print(type(f))"
   ]
  },
  {
   "cell_type": "code",
   "execution_count": 4,
   "id": "a5aba8cd-3378-49f2-b02a-07002bc2a99f",
   "metadata": {},
   "outputs": [
    {
     "name": "stdout",
     "output_type": "stream",
     "text": [
      "<class 'complex'>\n"
     ]
    }
   ],
   "source": [
    "c=2+3j\n",
    "print(type(c))"
   ]
  },
  {
   "cell_type": "markdown",
   "id": "3692a443-e6a9-42b6-ab93-e20c2ae49c43",
   "metadata": {},
   "source": [
    "### Sequence Data Type"
   ]
  },
  {
   "cell_type": "code",
   "execution_count": 5,
   "id": "e2178d54-f513-465c-9cde-6d15390928b1",
   "metadata": {},
   "outputs": [
    {
     "name": "stdout",
     "output_type": "stream",
     "text": [
      "<class 'str'>\n",
      "a\n",
      "s\n"
     ]
    }
   ],
   "source": [
    "s=\"I am Harsh\"\n",
    "print(type(s))\n",
    "print(s[2])\n",
    "print(s[-2])"
   ]
  },
  {
   "cell_type": "code",
   "execution_count": 6,
   "id": "2d067ec6-4359-494a-b818-21d5b5a837aa",
   "metadata": {},
   "outputs": [
    {
     "name": "stdout",
     "output_type": "stream",
     "text": [
      "<class 'list'>\n"
     ]
    }
   ],
   "source": [
    "l=[1,2,3,\"a\",\"b\"]\n",
    "print(type(l))"
   ]
  },
  {
   "cell_type": "code",
   "execution_count": 17,
   "id": "86fe6f6b-5438-4fe9-9199-16f6c0baedb3",
   "metadata": {},
   "outputs": [
    {
     "name": "stdout",
     "output_type": "stream",
     "text": [
      "<class 'tuple'>\n",
      "<class 'tuple'>\n"
     ]
    }
   ],
   "source": [
    "t=(4,5,6,\"a\")\n",
    "print(type(t))\n",
    "\n",
    "T=2,4,6\n",
    "print(type(T))"
   ]
  },
  {
   "cell_type": "markdown",
   "id": "29ad31ab-d68f-466a-a80d-7f20b0320967",
   "metadata": {},
   "source": [
    "### Boolean Data Type"
   ]
  },
  {
   "cell_type": "code",
   "execution_count": 8,
   "id": "465fd139-90e6-4a93-a64b-9f1bd027d428",
   "metadata": {},
   "outputs": [
    {
     "name": "stdout",
     "output_type": "stream",
     "text": [
      "<class 'bool'>\n",
      "<class 'bool'>\n"
     ]
    }
   ],
   "source": [
    "t=True\n",
    "f=False\n",
    "print(type(t))\n",
    "print(type(f))"
   ]
  },
  {
   "cell_type": "markdown",
   "id": "21022ac9-ca3b-4b1c-9452-a0fed41db5cb",
   "metadata": {},
   "source": [
    "### Set Data Type"
   ]
  },
  {
   "cell_type": "code",
   "execution_count": 9,
   "id": "9b5adfc0-5669-4ce3-b67c-f308018ba499",
   "metadata": {},
   "outputs": [
    {
     "name": "stdout",
     "output_type": "stream",
     "text": [
      "<class 'set'>\n"
     ]
    }
   ],
   "source": [
    "s={\"Hello\",\"Harsh\"}\n",
    "print(type(s))"
   ]
  },
  {
   "cell_type": "markdown",
   "id": "d92af47c-9d05-4ba8-b939-71a88b145686",
   "metadata": {},
   "source": [
    "### Dict Data Type"
   ]
  },
  {
   "cell_type": "code",
   "execution_count": 10,
   "id": "05124092-e251-436e-95e3-a6467bb4bef1",
   "metadata": {},
   "outputs": [
    {
     "name": "stdout",
     "output_type": "stream",
     "text": [
      "<class 'dict'>\n",
      "{1: 'h', 2: 'a', 'a': 'r', 'b': 's', 3: 'h'}\n",
      "r\n"
     ]
    }
   ],
   "source": [
    "d={1:\"h\" , 2:\"a\" , \"a\":\"r\" , \"b\":\"s\" , 3:\"h\" }\n",
    "print(type(d))\n",
    "print(d)\n",
    "print(d[\"a\"])"
   ]
  },
  {
   "cell_type": "code",
   "execution_count": null,
   "id": "e232d450-1124-4183-8f3a-547eb8da307b",
   "metadata": {},
   "outputs": [],
   "source": []
  },
  {
   "cell_type": "code",
   "execution_count": null,
   "id": "09c8086d-87f3-4143-bfbf-6f4f6f2ce00f",
   "metadata": {},
   "outputs": [],
   "source": []
  }
 ],
 "metadata": {
  "kernelspec": {
   "display_name": "Python 3 (ipykernel)",
   "language": "python",
   "name": "python3"
  },
  "language_info": {
   "codemirror_mode": {
    "name": "ipython",
    "version": 3
   },
   "file_extension": ".py",
   "mimetype": "text/x-python",
   "name": "python",
   "nbconvert_exporter": "python",
   "pygments_lexer": "ipython3",
   "version": "3.11.3"
  }
 },
 "nbformat": 4,
 "nbformat_minor": 5
}
